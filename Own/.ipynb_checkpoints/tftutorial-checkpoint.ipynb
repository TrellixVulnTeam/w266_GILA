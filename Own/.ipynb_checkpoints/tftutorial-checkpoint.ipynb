{
 "cells": [
  {
   "cell_type": "code",
   "execution_count": 1,
   "metadata": {
    "collapsed": true
   },
   "outputs": [],
   "source": [
    "import time\n",
    "import random\n",
    "import numpy as np\n",
    "from matplotlib import pyplot as plt\n",
    "%matplotlib inline\n",
    "\n"
   ]
  },
  {
   "cell_type": "code",
   "execution_count": 4,
   "metadata": {
    "collapsed": false
   },
   "outputs": [
    {
     "name": "stdout",
     "output_type": "stream",
     "text": [
      "Collecting tensorflow\n",
      "/usr/local/lib/python2.7/dist-packages/pip/_vendor/requests/packages/urllib3/util/ssl_.py:318: SNIMissingWarning: An HTTPS request has been made, but the SNI (Subject Name Indication) extension to TLS is not available on this platform. This may cause the server to present an incorrect TLS certificate, which can cause validation failures. You can upgrade to a newer version of Python to solve this. For more information, see https://urllib3.readthedocs.org/en/latest/security.html#snimissingwarning.\n",
      "  SNIMissingWarning\n",
      "/usr/local/lib/python2.7/dist-packages/pip/_vendor/requests/packages/urllib3/util/ssl_.py:122: InsecurePlatformWarning: A true SSLContext object is not available. This prevents urllib3 from configuring SSL appropriately and may cause certain SSL connections to fail. You can upgrade to a newer version of Python to solve this. For more information, see https://urllib3.readthedocs.org/en/latest/security.html#insecureplatformwarning.\n",
      "  InsecurePlatformWarning\n",
      "  Downloading tensorflow-0.11.0rc0-py27-none-any.whl (39.7MB)\n",
      "\u001b[K    100% |################################| 39.8MB 35kB/s \n",
      "\u001b[?25hCollecting protobuf==3.0.0 (from tensorflow)\n",
      "  Downloading protobuf-3.0.0-py2.py3-none-any.whl (342kB)\n",
      "\u001b[K    100% |################################| 348kB 1.9MB/s \n",
      "\u001b[?25hCollecting numpy>=1.11.0 (from tensorflow)\n",
      "  Downloading numpy-1.11.2-cp27-cp27mu-manylinux1_x86_64.whl (15.3MB)\n",
      "\u001b[K    100% |################################| 15.3MB 108kB/s \n",
      "\u001b[?25hCollecting wheel (from tensorflow)\n",
      "  Downloading wheel-0.29.0-py2.py3-none-any.whl (66kB)\n",
      "\u001b[K    100% |################################| 71kB 5.5MB/s \n",
      "\u001b[?25hCollecting mock>=2.0.0 (from tensorflow)\n",
      "  Downloading mock-2.0.0-py2.py3-none-any.whl (56kB)\n",
      "\u001b[K    100% |################################| 61kB 4.7MB/s \n",
      "\u001b[?25hRequirement already up-to-date: six>=1.10.0 in /usr/local/lib/python2.7/dist-packages (from tensorflow)\n",
      "Collecting setuptools (from protobuf==3.0.0->tensorflow)\n",
      "  Downloading setuptools-28.6.1-py2.py3-none-any.whl (471kB)\n",
      "\u001b[K    100% |################################| 481kB 2.3MB/s \n",
      "\u001b[?25hCollecting funcsigs>=1; python_version < \"3.3\" (from mock>=2.0.0->tensorflow)\n",
      "  Downloading funcsigs-1.0.2-py2.py3-none-any.whl\n",
      "Collecting pbr>=0.11 (from mock>=2.0.0->tensorflow)\n",
      "  Downloading pbr-1.10.0-py2.py3-none-any.whl (96kB)\n",
      "\u001b[K    100% |################################| 102kB 5.9MB/s \n",
      "\u001b[?25hInstalling collected packages: setuptools, protobuf, numpy, wheel, funcsigs, pbr, mock, tensorflow\n",
      "  Found existing installation: setuptools 20.1.1\n",
      "    Uninstalling setuptools-20.1.1:\n",
      "      Successfully uninstalled setuptools-20.1.1\n",
      "  Found existing installation: protobuf 3.0.0b2\n",
      "    Uninstalling protobuf-3.0.0b2:\n",
      "      Successfully uninstalled protobuf-3.0.0b2\n",
      "  Found existing installation: numpy 1.8.2\n",
      "\u001b[33m    DEPRECATION: Uninstalling a distutils installed project (numpy) has been deprecated and will be removed in a future version. This is due to the fact that uninstalling a distutils project will only partially uninstall the project.\u001b[0m\n",
      "    Uninstalling numpy-1.8.2:\n",
      "      Successfully uninstalled numpy-1.8.2\n",
      "  Found existing installation: wheel 0.24.0\n",
      "    Uninstalling wheel-0.24.0:\n",
      "      Successfully uninstalled wheel-0.24.0\n",
      "  Found existing installation: tensorflow 0.7.1\n",
      "    Uninstalling tensorflow-0.7.1:\n",
      "      Successfully uninstalled tensorflow-0.7.1\n",
      "Successfully installed funcsigs-1.0.2 mock-2.0.0 numpy-1.11.2 pbr-1.10.0 protobuf-3.0.0 setuptools-28.6.1 tensorflow-0.11.0rc0 wheel-0.29.0\n"
     ]
    }
   ],
   "source": [
    "!pip install --upgrade tensorflow\n",
    "#!python -c 'import tensorflow as tf; print(tf.__version__)' \n",
    "    \n",
    "  "
   ]
  },
  {
   "cell_type": "code",
   "execution_count": 33,
   "metadata": {
    "collapsed": false
   },
   "outputs": [
    {
     "data": {
      "text/plain": [
       "<matplotlib.collections.PathCollection at 0x7f544b937290>"
      ]
     },
     "execution_count": 33,
     "metadata": {},
     "output_type": "execute_result"
    },
    {
     "data": {
      "image/png": "[encoded data removed]",
      "text/plain": [
       "<matplotlib.figure.Figure at 0x7f544bb6f8d0>"
      ]
     },
     "metadata": {},
     "output_type": "display_data"
    }
   ],
   "source": [
    "np.random.seed(10)\n",
    "x0 = np.random.randn(100, 2) + 0.7*np.array([1, -1]) # sigma = 1 and mu = 0.7 and -0.7\n",
    "x1 = np.random.randn(100, 2) + 0.7*np.array([-1, 1])\n",
    "X = np.vstack([x0, x1])\n",
    "y = np.concatenate([np.zeros(100), np.ones(100)])\n",
    "\n",
    "# Randomly shuffle the data\n",
    "shuf_idx = np.random.permutation(len(y))\n",
    "X = X[shuf_idx]\n",
    "y = y[shuf_idx]\n",
    "\n",
    "plt.scatter(X[:,0], X[:,1], c=y, cmap='bwr')"
   ]
  },
  {
   "cell_type": "code",
   "execution_count": 48,
   "metadata": {
    "collapsed": false
   },
   "outputs": [
    {
     "name": "stdout",
     "output_type": "stream",
     "text": [
      "(0, array([-0.23635951], dtype=float32), array([ 0.66704243], dtype=float32))\n",
      "(500, array([ 0.09999991], dtype=float32), array([ 0.30000007], dtype=float32))\n",
      "(1000, array([ 0.09999991], dtype=float32), array([ 0.30000007], dtype=float32))\n",
      "(1500, array([ 0.09999991], dtype=float32), array([ 0.30000007], dtype=float32))\n",
      "(2000, array([ 0.09999991], dtype=float32), array([ 0.30000007], dtype=float32))\n",
      "(2500, array([ 0.09999991], dtype=float32), array([ 0.30000007], dtype=float32))\n",
      "(3000, array([ 0.09999991], dtype=float32), array([ 0.30000007], dtype=float32))\n",
      "(3500, array([ 0.09999991], dtype=float32), array([ 0.30000007], dtype=float32))\n",
      "(4000, array([ 0.09999991], dtype=float32), array([ 0.30000007], dtype=float32))\n",
      "(4500, array([ 0.09999991], dtype=float32), array([ 0.30000007], dtype=float32))\n",
      "(5000, array([ 0.09999991], dtype=float32), array([ 0.30000007], dtype=float32))\n",
      "(5500, array([ 0.09999991], dtype=float32), array([ 0.30000007], dtype=float32))\n",
      "(6000, array([ 0.09999991], dtype=float32), array([ 0.30000007], dtype=float32))\n",
      "(6500, array([ 0.09999991], dtype=float32), array([ 0.30000007], dtype=float32))\n",
      "(7000, array([ 0.09999991], dtype=float32), array([ 0.30000007], dtype=float32))\n",
      "(7500, array([ 0.09999991], dtype=float32), array([ 0.30000007], dtype=float32))\n",
      "(8000, array([ 0.09999991], dtype=float32), array([ 0.30000007], dtype=float32))\n",
      "(8500, array([ 0.09999991], dtype=float32), array([ 0.30000007], dtype=float32))\n",
      "(9000, array([ 0.09999991], dtype=float32), array([ 0.30000007], dtype=float32))\n",
      "(9500, array([ 0.09999991], dtype=float32), array([ 0.30000007], dtype=float32))\n",
      "(10000, array([ 0.09999991], dtype=float32), array([ 0.30000007], dtype=float32))\n"
     ]
    }
   ],
   "source": [
    "import tensorflow as tf\n",
    "import numpy as np\n",
    "\n",
    "# Create 100 phony x, y data points in NumPy, y = x * 0.1 + 0.3\n",
    "x_data = np.random.rand(100).astype(np.float32)\n",
    "y_data = x_data * 0.1 + 0.3\n",
    "\n",
    "\n",
    "# Try to find values for W and b that compute y_data = W * x_data + b\n",
    "# (We know that W should be 0.1 and b 0.3, but TensorFlow will\n",
    "# figure that out for us.)\n",
    "W = tf.Variable(tf.random_uniform([1], -1.0, 1.0))\n",
    "b = tf.Variable(tf.zeros([1]))\n",
    "y = W * x_data + b\n",
    "\n",
    "# Minimize the mean squared errors.\n",
    "loss = tf.reduce_mean(tf.square(y - y_data))\n",
    "optimizer = tf.train.GradientDescentOptimizer(0.5)\n",
    "train = optimizer.minimize(loss)\n",
    "\n",
    "# Before starting, initialize the variables.  We will 'run' this first.\n",
    "init = tf.initialize_all_variables()\n",
    "\n",
    "# Launch the graph.\n",
    "sess = tf.Session()\n",
    "sess.run(init)\n",
    "\n",
    "# Fit the line.\n",
    "for step in range(10001):\n",
    "    sess.run(train)\n",
    "    if step % 500 == 0:\n",
    "        print(step, sess.run(W), sess.run(b))\n",
    "\n",
    "# Learns best fit is W: [0.1], b: [0.3]"
   ]
  },
  {
   "cell_type": "code",
   "execution_count": null,
   "metadata": {
    "collapsed": true
   },
   "outputs": [],
   "source": []
  }
 ],
 "metadata": {
  "kernelspec": {
   "display_name": "Python 2",
   "language": "python",
   "name": "python2"
  },
  "language_info": {
   "codemirror_mode": {
    "name": "ipython",
    "version": 2
   },
   "file_extension": ".py",
   "mimetype": "text/x-python",
   "name": "python",
   "nbconvert_exporter": "python",
   "pygments_lexer": "ipython2",
   "version": "2.7.6"
  }
 },
 "nbformat": 4,
 "nbformat_minor": 0
}
