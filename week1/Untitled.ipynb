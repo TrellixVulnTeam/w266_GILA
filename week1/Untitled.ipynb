{
 "cells": [
  {
   "cell_type": "code",
   "execution_count": 23,
   "metadata": {
    "collapsed": false
   },
   "outputs": [
    {
     "name": "stdout",
     "output_type": "stream",
     "text": [
      "[[  0.   1.   2.   3.]\n",
      " [  4.   5.   6.   7.]\n",
      " [  8.   9.  10.  11.]] \n",
      "[[  0.   1.   2.   3.   4.]\n",
      " [  5.   6.   7.   8.   9.]\n",
      " [ 10.  11.  12.  13.  14.]\n",
      " [ 15.  16.  17.  18.  19.]] \n",
      "[[ 0.  1.  2.  3.  4.]] \n",
      "[[  70.   76.   82.   88.   94.]\n",
      " [ 190.  212.  234.  256.  278.]\n",
      " [ 310.  348.  386.  424.  462.]] \n",
      "[[  70.   77.   84.   91.   98.]\n",
      " [ 190.  213.  236.  259.  282.]\n",
      " [ 310.  349.  388.  427.  466.]]\n"
     ]
    }
   ],
   "source": [
    "import tensorflow as tf\n",
    "import numpy as np\n",
    "\n",
    "x1 = np.arange(12.0).reshape((3, 4))\n",
    "x2 = np.arange(20.0).reshape((4,5))\n",
    "x3 = np.arange(5.0).reshape((1,5))\n",
    "print x1, '\\n', x2, '\\n', x3, '\\n', np.matmul(x1, x2), '\\n', np.add(np.matmul(x1, x2), x3)"
   ]
  },
  {
   "cell_type": "code",
   "execution_count": 28,
   "metadata": {
    "collapsed": false
   },
   "outputs": [
    {
     "name": "stdout",
     "output_type": "stream",
     "text": [
      "[3, 4]\n",
      "3\n",
      "4\n"
     ]
    }
   ],
   "source": [
    "a = [1, 2, 3, 4]\n",
    "print a[2:]\n",
    "\n",
    "for i in a[2:]:\n",
    "    print i"
   ]
  },
  {
   "cell_type": "code",
   "execution_count": null,
   "metadata": {
    "collapsed": true
   },
   "outputs": [],
   "source": []
  }
 ],
 "metadata": {
  "kernelspec": {
   "display_name": "Python 2",
   "language": "python",
   "name": "python2"
  },
  "language_info": {
   "codemirror_mode": {
    "name": "ipython",
    "version": 2
   },
   "file_extension": ".py",
   "mimetype": "text/x-python",
   "name": "python",
   "nbconvert_exporter": "python",
   "pygments_lexer": "ipython2",
   "version": "2.7.6"
  }
 },
 "nbformat": 4,
 "nbformat_minor": 0
}
